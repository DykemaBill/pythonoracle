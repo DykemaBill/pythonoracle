{
    "cells": [
        {
            "cell_type": "markdown",
            "source": [
                "# Setup in VS Code\n",
                "- First set your Python interpreter in (Cmd Shift P): \"Python: Select Interpreter\" and select a matching \"python3\" for the next line\n",
                "- Install Jupyter if not already installed: \"pip3 install Jupyter\"\n",
                "- Next start a new Jupyter notebook (Cmd Shift P): \"Jupyter: Create New Blank Notebook\"\n",
                "- Install \"pip3 install pandas\" and to be able to read Excel files \"pip3 install openpyxl\"\n",
                "- Install \"pip3 install xlsxwriter\" and to be able to append Excel files"
            ],
            "metadata": {}
        },
        {
            "cell_type": "code",
            "execution_count": 52,
            "source": [
                "# Pandas for CSV/Excel manipulation\n",
                "import pandas as pd"
            ],
            "outputs": [],
            "metadata": {}
        },
        {
            "cell_type": "markdown",
            "source": [
                "# Read CSV file"
            ],
            "metadata": {}
        },
        {
            "cell_type": "code",
            "execution_count": 53,
            "source": [
                "# Create DataFrame from CSV\n",
                "df_csv = pd.read_csv(\"testtable_source.csv\")\n",
                "# View your new DataFrame\n",
                "df_csv"
            ],
            "outputs": [
                {
                    "output_type": "execute_result",
                    "data": {
                        "text/plain": [
                            "          TEST_DATETIME  TEST_NUMBER                              TEST_TEXT  \\\n",
                            "0   2021-08-25 08:42:43       428514  Record added to CSV August 25 of 2021   \n",
                            "1   2021-08-25 08:42:43       904954  Record added to CSV August 25 of 2021   \n",
                            "2   2021-08-25 08:42:43       629890  Record added to CSV August 25 of 2021   \n",
                            "3   2021-08-25 08:42:43       326473  Record added to CSV August 25 of 2021   \n",
                            "4   2021-08-26 08:42:43       815098  Record added to CSV August 26 of 2021   \n",
                            "5   2021-08-26 08:42:43       301769  Record added to CSV August 26 of 2021   \n",
                            "6   2021-08-26 08:42:43       879650  Record added to CSV August 26 of 2021   \n",
                            "7   2021-08-26 08:42:43       737747  Record added to CSV August 26 of 2021   \n",
                            "8   2021-08-27 08:42:43       140170  Record added to CSV August 27 of 2021   \n",
                            "9   2021-08-27 08:42:43       246890  Record added to CSV August 27 of 2021   \n",
                            "10  2021-08-27 08:42:43       848615  Record added to CSV August 27 of 2021   \n",
                            "11  2021-08-27 08:42:43       813903  Record added to CSV August 27 of 2021   \n",
                            "\n",
                            "           RECORD_ADDED  \n",
                            "0   2021-08-25 08:42:43  \n",
                            "1   2021-08-25 08:42:43  \n",
                            "2   2021-08-25 08:42:43  \n",
                            "3   2021-08-25 08:42:43  \n",
                            "4   2021-08-26 08:42:43  \n",
                            "5   2021-08-26 08:42:43  \n",
                            "6   2021-08-26 08:42:43  \n",
                            "7   2021-08-26 08:42:43  \n",
                            "8   2021-08-27 08:42:43  \n",
                            "9   2021-08-27 08:42:43  \n",
                            "10  2021-08-27 08:42:43  \n",
                            "11  2021-08-27 08:42:43  "
                        ],
                        "text/html": [
                            "<div>\n",
                            "<style scoped>\n",
                            "    .dataframe tbody tr th:only-of-type {\n",
                            "        vertical-align: middle;\n",
                            "    }\n",
                            "\n",
                            "    .dataframe tbody tr th {\n",
                            "        vertical-align: top;\n",
                            "    }\n",
                            "\n",
                            "    .dataframe thead th {\n",
                            "        text-align: right;\n",
                            "    }\n",
                            "</style>\n",
                            "<table border=\"1\" class=\"dataframe\">\n",
                            "  <thead>\n",
                            "    <tr style=\"text-align: right;\">\n",
                            "      <th></th>\n",
                            "      <th>TEST_DATETIME</th>\n",
                            "      <th>TEST_NUMBER</th>\n",
                            "      <th>TEST_TEXT</th>\n",
                            "      <th>RECORD_ADDED</th>\n",
                            "    </tr>\n",
                            "  </thead>\n",
                            "  <tbody>\n",
                            "    <tr>\n",
                            "      <th>0</th>\n",
                            "      <td>2021-08-25 08:42:43</td>\n",
                            "      <td>428514</td>\n",
                            "      <td>Record added to CSV August 25 of 2021</td>\n",
                            "      <td>2021-08-25 08:42:43</td>\n",
                            "    </tr>\n",
                            "    <tr>\n",
                            "      <th>1</th>\n",
                            "      <td>2021-08-25 08:42:43</td>\n",
                            "      <td>904954</td>\n",
                            "      <td>Record added to CSV August 25 of 2021</td>\n",
                            "      <td>2021-08-25 08:42:43</td>\n",
                            "    </tr>\n",
                            "    <tr>\n",
                            "      <th>2</th>\n",
                            "      <td>2021-08-25 08:42:43</td>\n",
                            "      <td>629890</td>\n",
                            "      <td>Record added to CSV August 25 of 2021</td>\n",
                            "      <td>2021-08-25 08:42:43</td>\n",
                            "    </tr>\n",
                            "    <tr>\n",
                            "      <th>3</th>\n",
                            "      <td>2021-08-25 08:42:43</td>\n",
                            "      <td>326473</td>\n",
                            "      <td>Record added to CSV August 25 of 2021</td>\n",
                            "      <td>2021-08-25 08:42:43</td>\n",
                            "    </tr>\n",
                            "    <tr>\n",
                            "      <th>4</th>\n",
                            "      <td>2021-08-26 08:42:43</td>\n",
                            "      <td>815098</td>\n",
                            "      <td>Record added to CSV August 26 of 2021</td>\n",
                            "      <td>2021-08-26 08:42:43</td>\n",
                            "    </tr>\n",
                            "    <tr>\n",
                            "      <th>5</th>\n",
                            "      <td>2021-08-26 08:42:43</td>\n",
                            "      <td>301769</td>\n",
                            "      <td>Record added to CSV August 26 of 2021</td>\n",
                            "      <td>2021-08-26 08:42:43</td>\n",
                            "    </tr>\n",
                            "    <tr>\n",
                            "      <th>6</th>\n",
                            "      <td>2021-08-26 08:42:43</td>\n",
                            "      <td>879650</td>\n",
                            "      <td>Record added to CSV August 26 of 2021</td>\n",
                            "      <td>2021-08-26 08:42:43</td>\n",
                            "    </tr>\n",
                            "    <tr>\n",
                            "      <th>7</th>\n",
                            "      <td>2021-08-26 08:42:43</td>\n",
                            "      <td>737747</td>\n",
                            "      <td>Record added to CSV August 26 of 2021</td>\n",
                            "      <td>2021-08-26 08:42:43</td>\n",
                            "    </tr>\n",
                            "    <tr>\n",
                            "      <th>8</th>\n",
                            "      <td>2021-08-27 08:42:43</td>\n",
                            "      <td>140170</td>\n",
                            "      <td>Record added to CSV August 27 of 2021</td>\n",
                            "      <td>2021-08-27 08:42:43</td>\n",
                            "    </tr>\n",
                            "    <tr>\n",
                            "      <th>9</th>\n",
                            "      <td>2021-08-27 08:42:43</td>\n",
                            "      <td>246890</td>\n",
                            "      <td>Record added to CSV August 27 of 2021</td>\n",
                            "      <td>2021-08-27 08:42:43</td>\n",
                            "    </tr>\n",
                            "    <tr>\n",
                            "      <th>10</th>\n",
                            "      <td>2021-08-27 08:42:43</td>\n",
                            "      <td>848615</td>\n",
                            "      <td>Record added to CSV August 27 of 2021</td>\n",
                            "      <td>2021-08-27 08:42:43</td>\n",
                            "    </tr>\n",
                            "    <tr>\n",
                            "      <th>11</th>\n",
                            "      <td>2021-08-27 08:42:43</td>\n",
                            "      <td>813903</td>\n",
                            "      <td>Record added to CSV August 27 of 2021</td>\n",
                            "      <td>2021-08-27 08:42:43</td>\n",
                            "    </tr>\n",
                            "  </tbody>\n",
                            "</table>\n",
                            "</div>"
                        ]
                    },
                    "metadata": {},
                    "execution_count": 53
                }
            ],
            "metadata": {}
        },
        {
            "cell_type": "markdown",
            "source": [
                "# Read Excel file"
            ],
            "metadata": {}
        },
        {
            "cell_type": "code",
            "execution_count": 54,
            "source": [
                "# Create DataFrame from Excel\n",
                "df_excel = pd.read_excel(\"testtable_source.xlsx\", converters={'TEST_DATETIME':str, 'TEST_NUMBER':int, 'TEST_TEXT':str})\n",
                "# View your new DataFrame\n",
                "df_excel"
            ],
            "outputs": [
                {
                    "output_type": "execute_result",
                    "data": {
                        "text/plain": [
                            "          TEST_DATETIME  TEST_NUMBER                                TEST_TEXT  \\\n",
                            "0   2021-08-25 08:42:43       428514  Record added to Excel August 25 of 2021   \n",
                            "1   2021-08-25 08:42:43       904954  Record added to Excel August 25 of 2021   \n",
                            "2   2021-08-25 08:42:43       629890  Record added to Excel August 25 of 2021   \n",
                            "3   2021-08-25 08:42:43       326473  Record added to Excel August 25 of 2021   \n",
                            "4   2021-08-26 08:42:43       815098  Record added to Excel August 26 of 2021   \n",
                            "5   2021-08-26 08:42:43       301769  Record added to Excel August 26 of 2021   \n",
                            "6   2021-08-26 08:42:43       879650  Record added to Excel August 26 of 2021   \n",
                            "7   2021-08-26 08:42:43       737747  Record added to Excel August 26 of 2021   \n",
                            "8   2021-08-27 08:42:43       140170  Record added to Excel August 27 of 2021   \n",
                            "9   2021-08-27 08:42:43       246890  Record added to Excel August 27 of 2021   \n",
                            "10  2021-08-27 08:42:43       848615  Record added to Excel August 27 of 2021   \n",
                            "11  2021-08-27 08:42:43       813903  Record added to Excel August 27 of 2021   \n",
                            "\n",
                            "          RECORD_ADDED  \n",
                            "0  2021-08-25 08:42:43  \n",
                            "1  2021-08-25 08:42:43  \n",
                            "2  2021-08-25 08:42:43  \n",
                            "3  2021-08-25 08:42:43  \n",
                            "4  2021-08-26 08:42:43  \n",
                            "5  2021-08-26 08:42:43  \n",
                            "6  2021-08-26 08:42:43  \n",
                            "7  2021-08-26 08:42:43  \n",
                            "8  2021-08-27 08:42:43  \n",
                            "9  2021-08-27 08:42:43  \n",
                            "10 2021-08-27 08:42:43  \n",
                            "11 2021-08-27 08:42:43  "
                        ],
                        "text/html": [
                            "<div>\n",
                            "<style scoped>\n",
                            "    .dataframe tbody tr th:only-of-type {\n",
                            "        vertical-align: middle;\n",
                            "    }\n",
                            "\n",
                            "    .dataframe tbody tr th {\n",
                            "        vertical-align: top;\n",
                            "    }\n",
                            "\n",
                            "    .dataframe thead th {\n",
                            "        text-align: right;\n",
                            "    }\n",
                            "</style>\n",
                            "<table border=\"1\" class=\"dataframe\">\n",
                            "  <thead>\n",
                            "    <tr style=\"text-align: right;\">\n",
                            "      <th></th>\n",
                            "      <th>TEST_DATETIME</th>\n",
                            "      <th>TEST_NUMBER</th>\n",
                            "      <th>TEST_TEXT</th>\n",
                            "      <th>RECORD_ADDED</th>\n",
                            "    </tr>\n",
                            "  </thead>\n",
                            "  <tbody>\n",
                            "    <tr>\n",
                            "      <th>0</th>\n",
                            "      <td>2021-08-25 08:42:43</td>\n",
                            "      <td>428514</td>\n",
                            "      <td>Record added to Excel August 25 of 2021</td>\n",
                            "      <td>2021-08-25 08:42:43</td>\n",
                            "    </tr>\n",
                            "    <tr>\n",
                            "      <th>1</th>\n",
                            "      <td>2021-08-25 08:42:43</td>\n",
                            "      <td>904954</td>\n",
                            "      <td>Record added to Excel August 25 of 2021</td>\n",
                            "      <td>2021-08-25 08:42:43</td>\n",
                            "    </tr>\n",
                            "    <tr>\n",
                            "      <th>2</th>\n",
                            "      <td>2021-08-25 08:42:43</td>\n",
                            "      <td>629890</td>\n",
                            "      <td>Record added to Excel August 25 of 2021</td>\n",
                            "      <td>2021-08-25 08:42:43</td>\n",
                            "    </tr>\n",
                            "    <tr>\n",
                            "      <th>3</th>\n",
                            "      <td>2021-08-25 08:42:43</td>\n",
                            "      <td>326473</td>\n",
                            "      <td>Record added to Excel August 25 of 2021</td>\n",
                            "      <td>2021-08-25 08:42:43</td>\n",
                            "    </tr>\n",
                            "    <tr>\n",
                            "      <th>4</th>\n",
                            "      <td>2021-08-26 08:42:43</td>\n",
                            "      <td>815098</td>\n",
                            "      <td>Record added to Excel August 26 of 2021</td>\n",
                            "      <td>2021-08-26 08:42:43</td>\n",
                            "    </tr>\n",
                            "    <tr>\n",
                            "      <th>5</th>\n",
                            "      <td>2021-08-26 08:42:43</td>\n",
                            "      <td>301769</td>\n",
                            "      <td>Record added to Excel August 26 of 2021</td>\n",
                            "      <td>2021-08-26 08:42:43</td>\n",
                            "    </tr>\n",
                            "    <tr>\n",
                            "      <th>6</th>\n",
                            "      <td>2021-08-26 08:42:43</td>\n",
                            "      <td>879650</td>\n",
                            "      <td>Record added to Excel August 26 of 2021</td>\n",
                            "      <td>2021-08-26 08:42:43</td>\n",
                            "    </tr>\n",
                            "    <tr>\n",
                            "      <th>7</th>\n",
                            "      <td>2021-08-26 08:42:43</td>\n",
                            "      <td>737747</td>\n",
                            "      <td>Record added to Excel August 26 of 2021</td>\n",
                            "      <td>2021-08-26 08:42:43</td>\n",
                            "    </tr>\n",
                            "    <tr>\n",
                            "      <th>8</th>\n",
                            "      <td>2021-08-27 08:42:43</td>\n",
                            "      <td>140170</td>\n",
                            "      <td>Record added to Excel August 27 of 2021</td>\n",
                            "      <td>2021-08-27 08:42:43</td>\n",
                            "    </tr>\n",
                            "    <tr>\n",
                            "      <th>9</th>\n",
                            "      <td>2021-08-27 08:42:43</td>\n",
                            "      <td>246890</td>\n",
                            "      <td>Record added to Excel August 27 of 2021</td>\n",
                            "      <td>2021-08-27 08:42:43</td>\n",
                            "    </tr>\n",
                            "    <tr>\n",
                            "      <th>10</th>\n",
                            "      <td>2021-08-27 08:42:43</td>\n",
                            "      <td>848615</td>\n",
                            "      <td>Record added to Excel August 27 of 2021</td>\n",
                            "      <td>2021-08-27 08:42:43</td>\n",
                            "    </tr>\n",
                            "    <tr>\n",
                            "      <th>11</th>\n",
                            "      <td>2021-08-27 08:42:43</td>\n",
                            "      <td>813903</td>\n",
                            "      <td>Record added to Excel August 27 of 2021</td>\n",
                            "      <td>2021-08-27 08:42:43</td>\n",
                            "    </tr>\n",
                            "  </tbody>\n",
                            "</table>\n",
                            "</div>"
                        ]
                    },
                    "metadata": {},
                    "execution_count": 54
                }
            ],
            "metadata": {}
        },
        {
            "cell_type": "markdown",
            "source": [
                "# CSV Columns"
            ],
            "metadata": {}
        },
        {
            "cell_type": "code",
            "execution_count": 55,
            "source": [
                "# List DataFrame columns\n",
                "df_csv.columns\n",
                "# List field types\n",
                "df_csv.convert_dtypes().dtypes"
            ],
            "outputs": [
                {
                    "output_type": "execute_result",
                    "data": {
                        "text/plain": [
                            "TEST_DATETIME    string\n",
                            "TEST_NUMBER       Int64\n",
                            "TEST_TEXT        string\n",
                            "RECORD_ADDED     string\n",
                            "dtype: object"
                        ]
                    },
                    "metadata": {},
                    "execution_count": 55
                }
            ],
            "metadata": {}
        },
        {
            "cell_type": "markdown",
            "source": [
                "# Excel Columns"
            ],
            "metadata": {}
        },
        {
            "cell_type": "code",
            "execution_count": 56,
            "source": [
                "# List DataFrame columns\n",
                "df_excel.columns\n",
                "# List field types\n",
                "df_excel.convert_dtypes().dtypes"
            ],
            "outputs": [
                {
                    "output_type": "execute_result",
                    "data": {
                        "text/plain": [
                            "TEST_DATETIME            string\n",
                            "TEST_NUMBER               Int64\n",
                            "TEST_TEXT                string\n",
                            "RECORD_ADDED     datetime64[ns]\n",
                            "dtype: object"
                        ]
                    },
                    "metadata": {},
                    "execution_count": 56
                }
            ],
            "metadata": {}
        },
        {
            "cell_type": "markdown",
            "source": [
                "# Write CSV to Excel"
            ],
            "metadata": {}
        },
        {
            "cell_type": "code",
            "execution_count": 57,
            "source": [
                "# Send CSV DataFrame to Excel file\n",
                "df_csv.to_excel('testtable_csv_export.xlsx', index=False)"
            ],
            "outputs": [],
            "metadata": {}
        },
        {
            "cell_type": "markdown",
            "source": [
                "# Write Excel to CSV"
            ],
            "metadata": {}
        },
        {
            "cell_type": "code",
            "execution_count": 58,
            "source": [
                "# Send Excel DataFrame to CSV file\n",
                "df_excel.to_csv('testtable_excel_export.csv', index=False)"
            ],
            "outputs": [],
            "metadata": {}
        },
        {
            "cell_type": "markdown",
            "source": [
                "# Excel/CSV Oldest and Latest Dates"
            ],
            "metadata": {}
        },
        {
            "cell_type": "code",
            "execution_count": 59,
            "source": [
                "# String to Date/Time\n",
                "df_excel['TEST_DATETIME'] = pd.to_datetime(df_excel['TEST_DATETIME'])\n",
                "df_csv['TEST_DATETIME'] = pd.to_datetime(df_csv['TEST_DATETIME'])\n",
                "# Get oldest CSV date\n",
                "date_oldest_csv = df_csv['TEST_DATETIME'].min()\n",
                "print (\"Oldest CSV date is: \" + str(date_oldest_csv))\n",
                "# Get newest Excel date\n",
                "date_newest_excel = df_excel['TEST_DATETIME'].max()\n",
                "print (\"Newest Excel date is: \" + str(date_newest_excel))"
            ],
            "outputs": [
                {
                    "output_type": "stream",
                    "name": "stdout",
                    "text": [
                        "Oldest CSV date is: 2021-08-25 08:42:43\n",
                        "Newest Excel date is: 2021-08-27 08:42:43\n"
                    ]
                }
            ],
            "metadata": {}
        },
        {
            "cell_type": "markdown",
            "source": [
                "# Write CSV transform to Excel"
            ],
            "metadata": {}
        },
        {
            "cell_type": "code",
            "execution_count": 60,
            "source": [
                "# Filter the CSV data\n",
                "date_query = df_csv['TEST_DATETIME'] == date_oldest_csv\n",
                "df_filtered_csv = df_csv.query('@date_query')\n",
                "# Send part part of the CSV filtered DataFrame to Excel file\n",
                "df_filtered_csv.to_excel('testtable_transformed_csv_export.xlsx', index=False, columns=['TEST_DATETIME', 'TEST_NUMBER'])"
            ],
            "outputs": [],
            "metadata": {}
        },
        {
            "cell_type": "markdown",
            "source": [
                "# Write Excel transform to CSV"
            ],
            "metadata": {}
        },
        {
            "cell_type": "code",
            "execution_count": 61,
            "source": [
                "# Filter the Excel data\n",
                "date_query = df_excel['TEST_DATETIME'] == date_newest_excel\n",
                "df_filtered_excel = df_excel.query('@date_query')\n",
                "# Send part part of the Excel filtered DataFrame to CSV file\n",
                "df_filtered_excel.to_csv('testtable_transformed_excel_export.csv', index=False, columns=['TEST_DATETIME', 'TEST_NUMBER'])"
            ],
            "outputs": [],
            "metadata": {}
        },
        {
            "cell_type": "markdown",
            "source": [
                "# Excel and CSV Combine into Single Excel/CSV"
            ],
            "metadata": {}
        },
        {
            "cell_type": "code",
            "execution_count": 62,
            "source": [
                "# Append two DataFrames\n",
                "df_excel_combined = df_excel.append(df_csv, ignore_index=True)\n",
                "# View combined DataFrame\n",
                "df_excel_combined\n",
                "# Send combined DataFrame to Excel and CSV file\n",
                "df_excel_combined.to_excel('testtable_combined_export.xlsx', index=False)\n",
                "df_excel_combined.to_csv('testtable_combined_export.csv', index=False)"
            ],
            "outputs": [],
            "metadata": {}
        },
        {
            "cell_type": "markdown",
            "source": [
                "# Write Two Seperate Data Sets to Excel in Seperate Sheets"
            ],
            "metadata": {}
        },
        {
            "cell_type": "code",
            "execution_count": 51,
            "source": [
                "# Start Excel Writer to allow us to append\n",
                "Excelwriter = pd.ExcelWriter(\"testtable_sheets_export.xlsx\", engine=\"xlsxwriter\")\n",
                "# Using the same filter data was used for the transforms, this time with all columns\n",
                "df_filtered_csv.to_excel(Excelwriter, sheet_name=\"CSVData\", index=False)\n",
                "df_filtered_excel.to_excel(Excelwriter, sheet_name=\"ExcelData\", index=False)\n",
                "# Save Excel file\n",
                "Excelwriter.save()"
            ],
            "outputs": [],
            "metadata": {}
        }
    ],
    "metadata": {
        "orig_nbformat": 4,
        "language_info": {
            "name": "python",
            "version": "3.8.0",
            "mimetype": "text/x-python",
            "codemirror_mode": {
                "name": "ipython",
                "version": 3
            },
            "pygments_lexer": "ipython3",
            "nbconvert_exporter": "python",
            "file_extension": ".py"
        },
        "kernelspec": {
            "name": "python3",
            "display_name": "Python 3.8.0 64-bit"
        },
        "interpreter": {
            "hash": "082e9a3bcad0a290d0001e938aa60b99250c6c2ef33a923c00b70f9826caf4b7"
        }
    },
    "nbformat": 4,
    "nbformat_minor": 2
}