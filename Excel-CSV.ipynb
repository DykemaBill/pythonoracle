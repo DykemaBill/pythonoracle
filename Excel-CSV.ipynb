{
    "cells": [
        {
            "cell_type": "markdown",
            "source": [
                "# Setup in VS Code\n",
                "- ### First set your Python interpreter in (Cmd Shift P): \"Python: Select Interpreter\" and select a matching \"python3\" for the next line\n",
                "- ### Install Jupyter if not already installed: \"pip3 install Jupyter\"\n",
                "- ### Next start a new Jupyter notebook (Cmd Shift P): \"Jupyter: Create New Blank Notebook\"\n",
                "- ### Install \"pip3 install pandas\" and to be able to read Excel files \"pip3 install openpyxl\""
            ],
            "metadata": {}
        },
        {
            "cell_type": "code",
            "execution_count": 75,
            "source": [
                "# Pandas for CSV/Excel manipulation\n",
                "import pandas as pd"
            ],
            "outputs": [],
            "metadata": {}
        },
        {
            "cell_type": "markdown",
            "source": [
                "# Read CSV file"
            ],
            "metadata": {}
        },
        {
            "cell_type": "code",
            "execution_count": 76,
            "source": [
                "# Create DataFrame from CSV\n",
                "df_csv = pd.read_csv(\"testtable.csv\")\n",
                "# View your new DataFrame\n",
                "df_csv"
            ],
            "outputs": [
                {
                    "output_type": "execute_result",
                    "data": {
                        "text/plain": [
                            "         TEST_DATETIME  TEST_NUMBER                             TEST_TEXT\n",
                            "0  2021-08-18 13:24:39       128355                          Test from R!\n",
                            "1  2021-08-18 13:40:42       128355                    Test from R again!\n",
                            "2  2021-08-18 13:46:47       209998               Test from R once again!\n",
                            "3  2021-08-18 13:55:06       498198       R test from the actual program!\n",
                            "4  2021-08-20 15:12:05       573466                     Test from Python!\n",
                            "5  2021-08-20 15:12:05       678345               Test from Python again!\n",
                            "6  2021-08-20 15:37:45       456234          Test from Python once again!\n",
                            "7  2021-08-20 16:31:54       654321  Python test from the actual program!"
                        ],
                        "text/html": [
                            "<div>\n",
                            "<style scoped>\n",
                            "    .dataframe tbody tr th:only-of-type {\n",
                            "        vertical-align: middle;\n",
                            "    }\n",
                            "\n",
                            "    .dataframe tbody tr th {\n",
                            "        vertical-align: top;\n",
                            "    }\n",
                            "\n",
                            "    .dataframe thead th {\n",
                            "        text-align: right;\n",
                            "    }\n",
                            "</style>\n",
                            "<table border=\"1\" class=\"dataframe\">\n",
                            "  <thead>\n",
                            "    <tr style=\"text-align: right;\">\n",
                            "      <th></th>\n",
                            "      <th>TEST_DATETIME</th>\n",
                            "      <th>TEST_NUMBER</th>\n",
                            "      <th>TEST_TEXT</th>\n",
                            "    </tr>\n",
                            "  </thead>\n",
                            "  <tbody>\n",
                            "    <tr>\n",
                            "      <th>0</th>\n",
                            "      <td>2021-08-18 13:24:39</td>\n",
                            "      <td>128355</td>\n",
                            "      <td>Test from R!</td>\n",
                            "    </tr>\n",
                            "    <tr>\n",
                            "      <th>1</th>\n",
                            "      <td>2021-08-18 13:40:42</td>\n",
                            "      <td>128355</td>\n",
                            "      <td>Test from R again!</td>\n",
                            "    </tr>\n",
                            "    <tr>\n",
                            "      <th>2</th>\n",
                            "      <td>2021-08-18 13:46:47</td>\n",
                            "      <td>209998</td>\n",
                            "      <td>Test from R once again!</td>\n",
                            "    </tr>\n",
                            "    <tr>\n",
                            "      <th>3</th>\n",
                            "      <td>2021-08-18 13:55:06</td>\n",
                            "      <td>498198</td>\n",
                            "      <td>R test from the actual program!</td>\n",
                            "    </tr>\n",
                            "    <tr>\n",
                            "      <th>4</th>\n",
                            "      <td>2021-08-20 15:12:05</td>\n",
                            "      <td>573466</td>\n",
                            "      <td>Test from Python!</td>\n",
                            "    </tr>\n",
                            "    <tr>\n",
                            "      <th>5</th>\n",
                            "      <td>2021-08-20 15:12:05</td>\n",
                            "      <td>678345</td>\n",
                            "      <td>Test from Python again!</td>\n",
                            "    </tr>\n",
                            "    <tr>\n",
                            "      <th>6</th>\n",
                            "      <td>2021-08-20 15:37:45</td>\n",
                            "      <td>456234</td>\n",
                            "      <td>Test from Python once again!</td>\n",
                            "    </tr>\n",
                            "    <tr>\n",
                            "      <th>7</th>\n",
                            "      <td>2021-08-20 16:31:54</td>\n",
                            "      <td>654321</td>\n",
                            "      <td>Python test from the actual program!</td>\n",
                            "    </tr>\n",
                            "  </tbody>\n",
                            "</table>\n",
                            "</div>"
                        ]
                    },
                    "metadata": {},
                    "execution_count": 76
                }
            ],
            "metadata": {}
        },
        {
            "cell_type": "markdown",
            "source": [
                "# Read Excel file"
            ],
            "metadata": {}
        },
        {
            "cell_type": "code",
            "execution_count": 90,
            "source": [
                "# Create DataFrame from Excel\n",
                "df_excel = pd.read_excel(\"testtable.xlsx\", converters={'TEST_DATETIME':str, 'TEST_NUMBER':int, 'TEST_TEXT':str})\n",
                "# View your new DataFrame\n",
                "df_excel"
            ],
            "outputs": [
                {
                    "output_type": "execute_result",
                    "data": {
                        "text/plain": [
                            "         TEST_DATETIME  TEST_NUMBER                             TEST_TEXT\n",
                            "0  2021-08-18 13:24:39       128355                          Test from R!\n",
                            "1  2021-08-18 13:40:42       128355                    Test from R again!\n",
                            "2  2021-08-18 13:46:47       209998               Test from R once again!\n",
                            "3  2021-08-18 13:55:06       498198       R test from the actual program!\n",
                            "4  2021-08-20 15:12:05       573466                     Test from Python!\n",
                            "5  2021-08-20 15:12:05       678345               Test from Python again!\n",
                            "6  2021-08-20 15:37:45       456234          Test from Python once again!\n",
                            "7  2021-08-20 16:31:54       654321  Python test from the actual program!"
                        ],
                        "text/html": [
                            "<div>\n",
                            "<style scoped>\n",
                            "    .dataframe tbody tr th:only-of-type {\n",
                            "        vertical-align: middle;\n",
                            "    }\n",
                            "\n",
                            "    .dataframe tbody tr th {\n",
                            "        vertical-align: top;\n",
                            "    }\n",
                            "\n",
                            "    .dataframe thead th {\n",
                            "        text-align: right;\n",
                            "    }\n",
                            "</style>\n",
                            "<table border=\"1\" class=\"dataframe\">\n",
                            "  <thead>\n",
                            "    <tr style=\"text-align: right;\">\n",
                            "      <th></th>\n",
                            "      <th>TEST_DATETIME</th>\n",
                            "      <th>TEST_NUMBER</th>\n",
                            "      <th>TEST_TEXT</th>\n",
                            "    </tr>\n",
                            "  </thead>\n",
                            "  <tbody>\n",
                            "    <tr>\n",
                            "      <th>0</th>\n",
                            "      <td>2021-08-18 13:24:39</td>\n",
                            "      <td>128355</td>\n",
                            "      <td>Test from R!</td>\n",
                            "    </tr>\n",
                            "    <tr>\n",
                            "      <th>1</th>\n",
                            "      <td>2021-08-18 13:40:42</td>\n",
                            "      <td>128355</td>\n",
                            "      <td>Test from R again!</td>\n",
                            "    </tr>\n",
                            "    <tr>\n",
                            "      <th>2</th>\n",
                            "      <td>2021-08-18 13:46:47</td>\n",
                            "      <td>209998</td>\n",
                            "      <td>Test from R once again!</td>\n",
                            "    </tr>\n",
                            "    <tr>\n",
                            "      <th>3</th>\n",
                            "      <td>2021-08-18 13:55:06</td>\n",
                            "      <td>498198</td>\n",
                            "      <td>R test from the actual program!</td>\n",
                            "    </tr>\n",
                            "    <tr>\n",
                            "      <th>4</th>\n",
                            "      <td>2021-08-20 15:12:05</td>\n",
                            "      <td>573466</td>\n",
                            "      <td>Test from Python!</td>\n",
                            "    </tr>\n",
                            "    <tr>\n",
                            "      <th>5</th>\n",
                            "      <td>2021-08-20 15:12:05</td>\n",
                            "      <td>678345</td>\n",
                            "      <td>Test from Python again!</td>\n",
                            "    </tr>\n",
                            "    <tr>\n",
                            "      <th>6</th>\n",
                            "      <td>2021-08-20 15:37:45</td>\n",
                            "      <td>456234</td>\n",
                            "      <td>Test from Python once again!</td>\n",
                            "    </tr>\n",
                            "    <tr>\n",
                            "      <th>7</th>\n",
                            "      <td>2021-08-20 16:31:54</td>\n",
                            "      <td>654321</td>\n",
                            "      <td>Python test from the actual program!</td>\n",
                            "    </tr>\n",
                            "  </tbody>\n",
                            "</table>\n",
                            "</div>"
                        ]
                    },
                    "metadata": {},
                    "execution_count": 90
                }
            ],
            "metadata": {}
        },
        {
            "cell_type": "markdown",
            "source": [
                "# CSV Columns"
            ],
            "metadata": {}
        },
        {
            "cell_type": "code",
            "execution_count": 78,
            "source": [
                "# List DataFrame columns\n",
                "df_csv.columns"
            ],
            "outputs": [
                {
                    "output_type": "execute_result",
                    "data": {
                        "text/plain": [
                            "Index(['TEST_DATETIME', 'TEST_NUMBER', 'TEST_TEXT'], dtype='object')"
                        ]
                    },
                    "metadata": {},
                    "execution_count": 78
                }
            ],
            "metadata": {}
        },
        {
            "cell_type": "markdown",
            "source": [
                "# Excel Columns"
            ],
            "metadata": {}
        },
        {
            "cell_type": "code",
            "execution_count": 79,
            "source": [
                "# List DataFrame columns\n",
                "df_excel.columns"
            ],
            "outputs": [
                {
                    "output_type": "execute_result",
                    "data": {
                        "text/plain": [
                            "Index(['TEST_DATETIME', 'TEST_NUMBER', 'TEST_TEXT'], dtype='object')"
                        ]
                    },
                    "metadata": {},
                    "execution_count": 79
                }
            ],
            "metadata": {}
        },
        {
            "cell_type": "markdown",
            "source": [
                "# Write CSV to Excel"
            ],
            "metadata": {}
        },
        {
            "cell_type": "code",
            "execution_count": 80,
            "source": [
                "# Send CSV DataFrame to Excel file\n",
                "df_csv.to_excel('testtable_csv_export.xlsx', index=False)"
            ],
            "outputs": [],
            "metadata": {}
        },
        {
            "cell_type": "markdown",
            "source": [
                "# Write Excel to CSV"
            ],
            "metadata": {}
        },
        {
            "cell_type": "code",
            "execution_count": 81,
            "source": [
                "# Send Excel DataFrame to CSV file\n",
                "df_excel.to_csv('testtable_excel_export.csv', index=False)"
            ],
            "outputs": [],
            "metadata": {}
        },
        {
            "cell_type": "markdown",
            "source": [
                "# Write CSV transform to Excel"
            ],
            "metadata": {}
        },
        {
            "cell_type": "code",
            "execution_count": 86,
            "source": [
                "# Filter the CSV data\n",
                "date_query = df_csv['TEST_DATETIME'].str.contains(\"2021-08-18\")\n",
                "df_filtered_csv = df_csv.query('@date_query')\n",
                "# Send part part of the CSV filtered DataFrame to Excel file\n",
                "df_filtered_csv.to_excel('testtable_transformed_csv_export.xlsx', index=False, columns=['TEST_DATETIME', 'TEST_NUMBER'])"
            ],
            "outputs": [],
            "metadata": {}
        },
        {
            "cell_type": "markdown",
            "source": [
                "# Write Excel transform to CSV"
            ],
            "metadata": {}
        },
        {
            "cell_type": "code",
            "execution_count": 91,
            "source": [
                "# Filter the Excel data\n",
                "date_query = df_excel['TEST_DATETIME'].str.contains(\"2021-08-18\")\n",
                "df_filtered_excel = df_excel.query('@date_query')\n",
                "# Send part part of the Excel filtered DataFrame to CSV file\n",
                "df_filtered_excel.to_csv('testtable_transformed_excel_export.csv', index=False, columns=['TEST_DATETIME', 'TEST_NUMBER'])"
            ],
            "outputs": [],
            "metadata": {}
        }
    ],
    "metadata": {
        "orig_nbformat": 4,
        "language_info": {
            "name": "python",
            "version": "3.8.0",
            "mimetype": "text/x-python",
            "codemirror_mode": {
                "name": "ipython",
                "version": 3
            },
            "pygments_lexer": "ipython3",
            "nbconvert_exporter": "python",
            "file_extension": ".py"
        },
        "kernelspec": {
            "name": "python3",
            "display_name": "Python 3.8.0 64-bit"
        },
        "interpreter": {
            "hash": "082e9a3bcad0a290d0001e938aa60b99250c6c2ef33a923c00b70f9826caf4b7"
        }
    },
    "nbformat": 4,
    "nbformat_minor": 2
}