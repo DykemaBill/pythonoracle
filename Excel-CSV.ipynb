{
    "cells": [
        {
            "cell_type": "markdown",
            "source": [
                "# Setup in VS Code\n",
                "- First set your Python interpreter in (Cmd Shift P): \"Python: Select Interpreter\" and select a matching \"python3\" for the next line\n",
                "- Install Jupyter if not already installed: \"pip3 install Jupyter\"\n",
                "- Next start a new Jupyter notebook (Cmd Shift P): \"Jupyter: Create New Blank Notebook\"\n",
                "- Install \"pip3 install pandas\" and to be able to read Excel files \"pip3 install openpyxl\""
            ],
            "metadata": {}
        },
        {
            "cell_type": "code",
            "execution_count": 1,
            "source": [
                "# Pandas for CSV/Excel manipulation\n",
                "import pandas as pd"
            ],
            "outputs": [],
            "metadata": {}
        },
        {
            "cell_type": "markdown",
            "source": [
                "# Read CSV file"
            ],
            "metadata": {}
        },
        {
            "cell_type": "code",
            "execution_count": 2,
            "source": [
                "# Create DataFrame from CSV\n",
                "df_csv = pd.read_csv(\"testtable_source.csv\")\n",
                "# View your new DataFrame\n",
                "df_csv"
            ],
            "outputs": [
                {
                    "output_type": "execute_result",
                    "data": {
                        "text/plain": [
                            "         TEST_DATETIME  TEST_NUMBER                       TEST_TEXT  \\\n",
                            "0  2021/08/25 19:10:28       902246  Record added August 25 of 2021   \n",
                            "1  2021/08/25 19:10:28       849084  Record added August 25 of 2021   \n",
                            "2  2021/08/25 19:10:28       390490  Record added August 25 of 2021   \n",
                            "3  2021/08/25 19:10:28       563009  Record added August 25 of 2021   \n",
                            "\n",
                            "          RECORD_ADDED  \n",
                            "0  2021/08/25 19:10:28  \n",
                            "1  2021/08/25 19:10:28  \n",
                            "2  2021/08/25 19:10:28  \n",
                            "3  2021/08/25 19:10:28  "
                        ],
                        "text/html": [
                            "<div>\n",
                            "<style scoped>\n",
                            "    .dataframe tbody tr th:only-of-type {\n",
                            "        vertical-align: middle;\n",
                            "    }\n",
                            "\n",
                            "    .dataframe tbody tr th {\n",
                            "        vertical-align: top;\n",
                            "    }\n",
                            "\n",
                            "    .dataframe thead th {\n",
                            "        text-align: right;\n",
                            "    }\n",
                            "</style>\n",
                            "<table border=\"1\" class=\"dataframe\">\n",
                            "  <thead>\n",
                            "    <tr style=\"text-align: right;\">\n",
                            "      <th></th>\n",
                            "      <th>TEST_DATETIME</th>\n",
                            "      <th>TEST_NUMBER</th>\n",
                            "      <th>TEST_TEXT</th>\n",
                            "      <th>RECORD_ADDED</th>\n",
                            "    </tr>\n",
                            "  </thead>\n",
                            "  <tbody>\n",
                            "    <tr>\n",
                            "      <th>0</th>\n",
                            "      <td>2021/08/25 19:10:28</td>\n",
                            "      <td>902246</td>\n",
                            "      <td>Record added August 25 of 2021</td>\n",
                            "      <td>2021/08/25 19:10:28</td>\n",
                            "    </tr>\n",
                            "    <tr>\n",
                            "      <th>1</th>\n",
                            "      <td>2021/08/25 19:10:28</td>\n",
                            "      <td>849084</td>\n",
                            "      <td>Record added August 25 of 2021</td>\n",
                            "      <td>2021/08/25 19:10:28</td>\n",
                            "    </tr>\n",
                            "    <tr>\n",
                            "      <th>2</th>\n",
                            "      <td>2021/08/25 19:10:28</td>\n",
                            "      <td>390490</td>\n",
                            "      <td>Record added August 25 of 2021</td>\n",
                            "      <td>2021/08/25 19:10:28</td>\n",
                            "    </tr>\n",
                            "    <tr>\n",
                            "      <th>3</th>\n",
                            "      <td>2021/08/25 19:10:28</td>\n",
                            "      <td>563009</td>\n",
                            "      <td>Record added August 25 of 2021</td>\n",
                            "      <td>2021/08/25 19:10:28</td>\n",
                            "    </tr>\n",
                            "  </tbody>\n",
                            "</table>\n",
                            "</div>"
                        ]
                    },
                    "metadata": {},
                    "execution_count": 2
                }
            ],
            "metadata": {}
        },
        {
            "cell_type": "markdown",
            "source": [
                "# Read Excel file"
            ],
            "metadata": {}
        },
        {
            "cell_type": "code",
            "execution_count": 3,
            "source": [
                "# Create DataFrame from Excel\n",
                "df_excel = pd.read_excel(\"testtable_source.xlsx\", converters={'TEST_DATETIME':str, 'TEST_NUMBER':int, 'TEST_TEXT':str})\n",
                "# View your new DataFrame\n",
                "df_excel"
            ],
            "outputs": [
                {
                    "output_type": "execute_result",
                    "data": {
                        "text/plain": [
                            "         TEST_DATETIME  TEST_NUMBER                       TEST_TEXT  \\\n",
                            "0  2021/08/25 19:10:28       902246  Record added August 25 of 2021   \n",
                            "1  2021/08/25 19:10:28       849084  Record added August 25 of 2021   \n",
                            "2  2021/08/25 19:10:28       390490  Record added August 25 of 2021   \n",
                            "3  2021/08/25 19:10:28       563009  Record added August 25 of 2021   \n",
                            "\n",
                            "          RECORD_ADDED  \n",
                            "0  2021/08/25 19:10:28  \n",
                            "1  2021/08/25 19:10:28  \n",
                            "2  2021/08/25 19:10:28  \n",
                            "3  2021/08/25 19:10:28  "
                        ],
                        "text/html": [
                            "<div>\n",
                            "<style scoped>\n",
                            "    .dataframe tbody tr th:only-of-type {\n",
                            "        vertical-align: middle;\n",
                            "    }\n",
                            "\n",
                            "    .dataframe tbody tr th {\n",
                            "        vertical-align: top;\n",
                            "    }\n",
                            "\n",
                            "    .dataframe thead th {\n",
                            "        text-align: right;\n",
                            "    }\n",
                            "</style>\n",
                            "<table border=\"1\" class=\"dataframe\">\n",
                            "  <thead>\n",
                            "    <tr style=\"text-align: right;\">\n",
                            "      <th></th>\n",
                            "      <th>TEST_DATETIME</th>\n",
                            "      <th>TEST_NUMBER</th>\n",
                            "      <th>TEST_TEXT</th>\n",
                            "      <th>RECORD_ADDED</th>\n",
                            "    </tr>\n",
                            "  </thead>\n",
                            "  <tbody>\n",
                            "    <tr>\n",
                            "      <th>0</th>\n",
                            "      <td>2021/08/25 19:10:28</td>\n",
                            "      <td>902246</td>\n",
                            "      <td>Record added August 25 of 2021</td>\n",
                            "      <td>2021/08/25 19:10:28</td>\n",
                            "    </tr>\n",
                            "    <tr>\n",
                            "      <th>1</th>\n",
                            "      <td>2021/08/25 19:10:28</td>\n",
                            "      <td>849084</td>\n",
                            "      <td>Record added August 25 of 2021</td>\n",
                            "      <td>2021/08/25 19:10:28</td>\n",
                            "    </tr>\n",
                            "    <tr>\n",
                            "      <th>2</th>\n",
                            "      <td>2021/08/25 19:10:28</td>\n",
                            "      <td>390490</td>\n",
                            "      <td>Record added August 25 of 2021</td>\n",
                            "      <td>2021/08/25 19:10:28</td>\n",
                            "    </tr>\n",
                            "    <tr>\n",
                            "      <th>3</th>\n",
                            "      <td>2021/08/25 19:10:28</td>\n",
                            "      <td>563009</td>\n",
                            "      <td>Record added August 25 of 2021</td>\n",
                            "      <td>2021/08/25 19:10:28</td>\n",
                            "    </tr>\n",
                            "  </tbody>\n",
                            "</table>\n",
                            "</div>"
                        ]
                    },
                    "metadata": {},
                    "execution_count": 3
                }
            ],
            "metadata": {}
        },
        {
            "cell_type": "markdown",
            "source": [
                "# CSV Columns"
            ],
            "metadata": {}
        },
        {
            "cell_type": "code",
            "execution_count": 4,
            "source": [
                "# List DataFrame columns\n",
                "df_csv.columns\n",
                "# List field types\n",
                "df_csv.convert_dtypes().dtypes"
            ],
            "outputs": [
                {
                    "output_type": "execute_result",
                    "data": {
                        "text/plain": [
                            "TEST_DATETIME    string\n",
                            "TEST_NUMBER       Int64\n",
                            "TEST_TEXT        string\n",
                            "RECORD_ADDED     string\n",
                            "dtype: object"
                        ]
                    },
                    "metadata": {},
                    "execution_count": 4
                }
            ],
            "metadata": {}
        },
        {
            "cell_type": "markdown",
            "source": [
                "# Excel Columns"
            ],
            "metadata": {}
        },
        {
            "cell_type": "code",
            "execution_count": 5,
            "source": [
                "# List DataFrame columns\n",
                "df_excel.columns\n",
                "# List field types\n",
                "df_excel.convert_dtypes().dtypes"
            ],
            "outputs": [
                {
                    "output_type": "execute_result",
                    "data": {
                        "text/plain": [
                            "TEST_DATETIME    string\n",
                            "TEST_NUMBER       Int64\n",
                            "TEST_TEXT        string\n",
                            "RECORD_ADDED     string\n",
                            "dtype: object"
                        ]
                    },
                    "metadata": {},
                    "execution_count": 5
                }
            ],
            "metadata": {}
        },
        {
            "cell_type": "markdown",
            "source": [
                "# Write CSV to Excel"
            ],
            "metadata": {}
        },
        {
            "cell_type": "code",
            "execution_count": 6,
            "source": [
                "# Send CSV DataFrame to Excel file\n",
                "df_csv.to_excel('testtable_csv_export.xlsx', index=False)"
            ],
            "outputs": [],
            "metadata": {}
        },
        {
            "cell_type": "markdown",
            "source": [
                "# Write Excel to CSV"
            ],
            "metadata": {}
        },
        {
            "cell_type": "code",
            "execution_count": 7,
            "source": [
                "# Send Excel DataFrame to CSV file\n",
                "df_excel.to_csv('testtable_excel_export.csv', index=False)"
            ],
            "outputs": [],
            "metadata": {}
        },
        {
            "cell_type": "markdown",
            "source": [
                "# Write CSV transform to Excel"
            ],
            "metadata": {}
        },
        {
            "cell_type": "code",
            "execution_count": 8,
            "source": [
                "# Filter the CSV data\n",
                "date_query = df_csv['TEST_DATETIME'].str.contains(\"2021/08/25\")\n",
                "df_filtered_csv = df_csv.query('@date_query')\n",
                "# Send part part of the CSV filtered DataFrame to Excel file\n",
                "df_filtered_csv.to_excel('testtable_transformed_csv_export.xlsx', index=False, columns=['TEST_DATETIME', 'TEST_NUMBER'])"
            ],
            "outputs": [],
            "metadata": {}
        },
        {
            "cell_type": "markdown",
            "source": [
                "# Write Excel transform to CSV"
            ],
            "metadata": {}
        },
        {
            "cell_type": "code",
            "execution_count": 9,
            "source": [
                "# Filter the Excel data\n",
                "date_query = df_excel['TEST_DATETIME'].str.contains(\"2021/08/25\")\n",
                "df_filtered_excel = df_excel.query('@date_query')\n",
                "# Send part part of the Excel filtered DataFrame to CSV file\n",
                "df_filtered_excel.to_csv('testtable_transformed_excel_export.csv', index=False, columns=['TEST_DATETIME', 'TEST_NUMBER'])"
            ],
            "outputs": [],
            "metadata": {}
        }
    ],
    "metadata": {
        "orig_nbformat": 4,
        "language_info": {
            "name": "python",
            "version": "3.8.2",
            "mimetype": "text/x-python",
            "codemirror_mode": {
                "name": "ipython",
                "version": 3
            },
            "pygments_lexer": "ipython3",
            "nbconvert_exporter": "python",
            "file_extension": ".py"
        },
        "kernelspec": {
            "name": "python3",
            "display_name": "Python 3.8.2 64-bit"
        },
        "interpreter": {
            "hash": "31f2aee4e71d21fbe5cf8b01ff0e069b9275f58929596ceb00d14d90e3e16cd6"
        }
    },
    "nbformat": 4,
    "nbformat_minor": 2
}