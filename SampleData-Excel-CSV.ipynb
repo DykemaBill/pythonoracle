{
    "cells": [
        {
            "cell_type": "markdown",
            "source": [
                "# Setup in VS Code\n",
                "- ### First set your Python interpreter in (Cmd Shift P): \"Python: Select Interpreter\" and select a matching \"python3\" for the next line\n",
                "- ### Install Jupyter if not already installed: \"pip3 install Jupyter\"\n",
                "- ### Next start a new Jupyter notebook (Cmd Shift P): \"Jupyter: Create New Blank Notebook\"\n",
                "- ### Install \"pip3 install pandas\" and to be able to read Excel files \"pip3 install openpyxl\""
            ],
            "metadata": {}
        },
        {
            "cell_type": "code",
            "execution_count": 1,
            "source": [
                "# Pandas for CSV/Excel manipulation\n",
                "import pandas as pd\n",
                "# Used to get the current date/time\n",
                "from datetime import datetime\n",
                "# Used to generate a random number\n",
                "import random"
            ],
            "outputs": [],
            "metadata": {}
        },
        {
            "cell_type": "markdown",
            "source": [
                "# Sample Data build in DataFrame"
            ],
            "metadata": {}
        },
        {
            "cell_type": "code",
            "execution_count": 10,
            "source": [
                "# Create DataFrame from scatch and populate it with test data\n",
                "df_sampledata = pd.DataFrame(columns=['TEST_DATETIME', 'TEST_NUMBER', 'TEST_TEXT', 'RECORD_ADDED'], index=['record_a', 'record_b', 'record_c', 'record_d'])\n",
                "# Get the current date/time\n",
                "now_is = datetime.now().strftime(\"%Y/%m/%d %H:%M:%S\")\n",
                "now_is_text = datetime.now().strftime(\"%B %d of %Y\")\n",
                "# Assemble some text\n",
                "text_is = \"Record added \" + now_is_text\n",
                "# Get a random number with 6 digits\n",
                "number_is = random.randint(100000, 1000000)\n",
                "# Populate some data\n",
                "df_sampledata.loc['record_a'] = pd.Series({'TEST_DATETIME': now_is, 'TEST_NUMBER': number_is, 'TEST_TEXT': text_is, 'RECORD_ADDED': now_is})\n",
                "# Get a random number with 6 digits\n",
                "number_is = random.randint(100000, 1000000)\n",
                "# Populate some data\n",
                "df_sampledata.loc['record_b'] = pd.Series({'TEST_DATETIME': now_is, 'TEST_NUMBER': number_is, 'TEST_TEXT': text_is, 'RECORD_ADDED': now_is})\n",
                "# Get a random number with 6 digits\n",
                "number_is = random.randint(100000, 1000000)\n",
                "# Populate some data\n",
                "df_sampledata.loc['record_c'] = pd.Series({'TEST_DATETIME': now_is, 'TEST_NUMBER': number_is, 'TEST_TEXT': text_is, 'RECORD_ADDED': now_is})\n",
                "# Get a random number with 6 digits\n",
                "number_is = random.randint(100000, 1000000)\n",
                "# Populate some data\n",
                "df_sampledata.loc['record_d'] = pd.Series({'TEST_DATETIME': now_is, 'TEST_NUMBER': number_is, 'TEST_TEXT': text_is, 'RECORD_ADDED': now_is})"
            ],
            "outputs": [],
            "metadata": {}
        },
        {
            "cell_type": "markdown",
            "source": [
                "# Sample Data Columns"
            ],
            "metadata": {}
        },
        {
            "cell_type": "code",
            "execution_count": 11,
            "source": [
                "# List DataFrame columns\n",
                "df_sampledata.columns\n",
                "# List field types\n",
                "df_sampledata.convert_dtypes().dtypes"
            ],
            "outputs": [
                {
                    "output_type": "execute_result",
                    "data": {
                        "text/plain": [
                            "TEST_DATETIME    string\n",
                            "TEST_NUMBER       Int64\n",
                            "TEST_TEXT        string\n",
                            "RECORD_ADDED     string\n",
                            "dtype: object"
                        ]
                    },
                    "metadata": {},
                    "execution_count": 11
                }
            ],
            "metadata": {}
        },
        {
            "cell_type": "markdown",
            "source": [
                "# Sample Data to Excel"
            ],
            "metadata": {}
        },
        {
            "cell_type": "code",
            "execution_count": 12,
            "source": [
                "# Send DataFrame to Excel file\n",
                "df_sampledata.to_excel('testtable_source.xlsx', index=False)"
            ],
            "outputs": [],
            "metadata": {}
        },
        {
            "cell_type": "markdown",
            "source": [
                "# Sample Data to CSV"
            ],
            "metadata": {}
        },
        {
            "cell_type": "code",
            "execution_count": 13,
            "source": [
                "# Send DataFrame to CSV file\n",
                "df_sampledata.to_csv('testtable_source.csv', index=False)"
            ],
            "outputs": [],
            "metadata": {}
        }
    ],
    "metadata": {
        "orig_nbformat": 4,
        "language_info": {
            "name": "python",
            "version": "3.8.0",
            "mimetype": "text/x-python",
            "codemirror_mode": {
                "name": "ipython",
                "version": 3
            },
            "pygments_lexer": "ipython3",
            "nbconvert_exporter": "python",
            "file_extension": ".py"
        },
        "kernelspec": {
            "name": "python3",
            "display_name": "Python 3.8.0 64-bit"
        },
        "interpreter": {
            "hash": "082e9a3bcad0a290d0001e938aa60b99250c6c2ef33a923c00b70f9826caf4b7"
        }
    },
    "nbformat": 4,
    "nbformat_minor": 2
}