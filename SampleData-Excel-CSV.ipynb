{
    "cells": [
        {
            "cell_type": "markdown",
            "source": [
                "# Setup in VS Code\n",
                "- First set your Python interpreter in (Cmd Shift P): \"Python: Select Interpreter\" and select a matching \"python3\" for the next line\n",
                "- Install Jupyter if not already installed: \"pip3 install Jupyter\"\n",
                "- Next start a new Jupyter notebook (Cmd Shift P): \"Jupyter: Create New Blank Notebook\"\n",
                "- Install \"pip3 install pandas\" and to be able to read Excel files \"pip3 install openpyxl\""
            ],
            "metadata": {}
        },
        {
            "cell_type": "code",
            "execution_count": 2,
            "source": [
                "# Pandas for CSV/Excel manipulation\n",
                "import pandas as pd\n",
                "# Used to get the current date/time\n",
                "from datetime import datetime, timedelta\n",
                "# Used to generate a random number\n",
                "import random"
            ],
            "outputs": [],
            "metadata": {}
        },
        {
            "cell_type": "markdown",
            "source": [
                "# Sample Data build in DataFrame"
            ],
            "metadata": {}
        },
        {
            "cell_type": "code",
            "execution_count": 3,
            "source": [
                "# Create DataFrame from scatch and populate it with test data\n",
                "df_sampledata = pd.DataFrame(columns=['TEST_DATETIME', 'TEST_NUMBER', 'TEST_TEXT', 'RECORD_ADDED'], index=['record_a', 'record_b', 'record_c', 'record_d'])\n",
                "# Get the current date/time and the last 2 days and put them in a list\n",
                "dates_to_add = list([])\n",
                "two_days_ago = (datetime.now() - timedelta(days=2)).strftime(\"%Y/%m/%d %H:%M:%S\")\n",
                "two_days_ago_text = (datetime.now() - timedelta(days=2)).strftime(\"%B %d of %Y\")\n",
                "dates_to_add.append(dict({\"datetime\": two_days_ago, \"datetext\": two_days_ago_text}))\n",
                "yesterday_was = (datetime.now() - timedelta(days=1)).strftime(\"%Y/%m/%d %H:%M:%S\")\n",
                "yesterday_was_text = (datetime.now() - timedelta(days=1)).strftime(\"%B %d of %Y\")\n",
                "dates_to_add.append(dict({\"datetime\": yesterday_was, \"datetext\": yesterday_was_text}))\n",
                "now_is = datetime.now().strftime(\"%Y/%m/%d %H:%M:%S\")\n",
                "now_is_text = datetime.now().strftime(\"%B %d of %Y\")\n",
                "dates_to_add.append(dict({\"datetime\": now_is, \"datetext\": now_is_text}))\n",
                "# Loop through each day and add some records\n",
                "for date_to_add in dates_to_add:\n",
                "    # Date and text to use\n",
                "    date_is = date_to_add['datetime']\n",
                "    text_is = \"Record added \" + date_to_add['datetext']\n",
                "    # Add four records for each date\n",
                "    for records_to_add in range(4):\n",
                "        # Get a random number with 6 digits\n",
                "        number_is = random.randint(100000, 1000000)\n",
                "        # Populate some data\n",
                "        df_sampledata = df_sampledata.append(pd.Series({'TEST_DATETIME': date_is, 'TEST_NUMBER': number_is, 'TEST_TEXT': text_is, 'RECORD_ADDED': date_is}), ignore_index=True)\n",
                "# View new DataFrame\n",
                "df_sampledata"
            ],
            "outputs": [
                {
                    "output_type": "execute_result",
                    "data": {
                        "text/plain": [
                            "          TEST_DATETIME TEST_NUMBER                       TEST_TEXT  \\\n",
                            "0                   NaN         NaN                             NaN   \n",
                            "1                   NaN         NaN                             NaN   \n",
                            "2                   NaN         NaN                             NaN   \n",
                            "3                   NaN         NaN                             NaN   \n",
                            "4   2021/08/24 16:52:16      611307  Record added August 24 of 2021   \n",
                            "5   2021/08/24 16:52:16      271110  Record added August 24 of 2021   \n",
                            "6   2021/08/24 16:52:16      681893  Record added August 24 of 2021   \n",
                            "7   2021/08/24 16:52:16      346079  Record added August 24 of 2021   \n",
                            "8   2021/08/25 16:52:16      572407  Record added August 25 of 2021   \n",
                            "9   2021/08/25 16:52:16      130332  Record added August 25 of 2021   \n",
                            "10  2021/08/25 16:52:16      748187  Record added August 25 of 2021   \n",
                            "11  2021/08/25 16:52:16      879078  Record added August 25 of 2021   \n",
                            "12  2021/08/26 16:52:16      272686  Record added August 26 of 2021   \n",
                            "13  2021/08/26 16:52:16      787605  Record added August 26 of 2021   \n",
                            "14  2021/08/26 16:52:16      551367  Record added August 26 of 2021   \n",
                            "15  2021/08/26 16:52:16      356276  Record added August 26 of 2021   \n",
                            "\n",
                            "           RECORD_ADDED  \n",
                            "0                   NaN  \n",
                            "1                   NaN  \n",
                            "2                   NaN  \n",
                            "3                   NaN  \n",
                            "4   2021/08/24 16:52:16  \n",
                            "5   2021/08/24 16:52:16  \n",
                            "6   2021/08/24 16:52:16  \n",
                            "7   2021/08/24 16:52:16  \n",
                            "8   2021/08/25 16:52:16  \n",
                            "9   2021/08/25 16:52:16  \n",
                            "10  2021/08/25 16:52:16  \n",
                            "11  2021/08/25 16:52:16  \n",
                            "12  2021/08/26 16:52:16  \n",
                            "13  2021/08/26 16:52:16  \n",
                            "14  2021/08/26 16:52:16  \n",
                            "15  2021/08/26 16:52:16  "
                        ],
                        "text/html": [
                            "<div>\n",
                            "<style scoped>\n",
                            "    .dataframe tbody tr th:only-of-type {\n",
                            "        vertical-align: middle;\n",
                            "    }\n",
                            "\n",
                            "    .dataframe tbody tr th {\n",
                            "        vertical-align: top;\n",
                            "    }\n",
                            "\n",
                            "    .dataframe thead th {\n",
                            "        text-align: right;\n",
                            "    }\n",
                            "</style>\n",
                            "<table border=\"1\" class=\"dataframe\">\n",
                            "  <thead>\n",
                            "    <tr style=\"text-align: right;\">\n",
                            "      <th></th>\n",
                            "      <th>TEST_DATETIME</th>\n",
                            "      <th>TEST_NUMBER</th>\n",
                            "      <th>TEST_TEXT</th>\n",
                            "      <th>RECORD_ADDED</th>\n",
                            "    </tr>\n",
                            "  </thead>\n",
                            "  <tbody>\n",
                            "    <tr>\n",
                            "      <th>0</th>\n",
                            "      <td>NaN</td>\n",
                            "      <td>NaN</td>\n",
                            "      <td>NaN</td>\n",
                            "      <td>NaN</td>\n",
                            "    </tr>\n",
                            "    <tr>\n",
                            "      <th>1</th>\n",
                            "      <td>NaN</td>\n",
                            "      <td>NaN</td>\n",
                            "      <td>NaN</td>\n",
                            "      <td>NaN</td>\n",
                            "    </tr>\n",
                            "    <tr>\n",
                            "      <th>2</th>\n",
                            "      <td>NaN</td>\n",
                            "      <td>NaN</td>\n",
                            "      <td>NaN</td>\n",
                            "      <td>NaN</td>\n",
                            "    </tr>\n",
                            "    <tr>\n",
                            "      <th>3</th>\n",
                            "      <td>NaN</td>\n",
                            "      <td>NaN</td>\n",
                            "      <td>NaN</td>\n",
                            "      <td>NaN</td>\n",
                            "    </tr>\n",
                            "    <tr>\n",
                            "      <th>4</th>\n",
                            "      <td>2021/08/24 16:52:16</td>\n",
                            "      <td>611307</td>\n",
                            "      <td>Record added August 24 of 2021</td>\n",
                            "      <td>2021/08/24 16:52:16</td>\n",
                            "    </tr>\n",
                            "    <tr>\n",
                            "      <th>5</th>\n",
                            "      <td>2021/08/24 16:52:16</td>\n",
                            "      <td>271110</td>\n",
                            "      <td>Record added August 24 of 2021</td>\n",
                            "      <td>2021/08/24 16:52:16</td>\n",
                            "    </tr>\n",
                            "    <tr>\n",
                            "      <th>6</th>\n",
                            "      <td>2021/08/24 16:52:16</td>\n",
                            "      <td>681893</td>\n",
                            "      <td>Record added August 24 of 2021</td>\n",
                            "      <td>2021/08/24 16:52:16</td>\n",
                            "    </tr>\n",
                            "    <tr>\n",
                            "      <th>7</th>\n",
                            "      <td>2021/08/24 16:52:16</td>\n",
                            "      <td>346079</td>\n",
                            "      <td>Record added August 24 of 2021</td>\n",
                            "      <td>2021/08/24 16:52:16</td>\n",
                            "    </tr>\n",
                            "    <tr>\n",
                            "      <th>8</th>\n",
                            "      <td>2021/08/25 16:52:16</td>\n",
                            "      <td>572407</td>\n",
                            "      <td>Record added August 25 of 2021</td>\n",
                            "      <td>2021/08/25 16:52:16</td>\n",
                            "    </tr>\n",
                            "    <tr>\n",
                            "      <th>9</th>\n",
                            "      <td>2021/08/25 16:52:16</td>\n",
                            "      <td>130332</td>\n",
                            "      <td>Record added August 25 of 2021</td>\n",
                            "      <td>2021/08/25 16:52:16</td>\n",
                            "    </tr>\n",
                            "    <tr>\n",
                            "      <th>10</th>\n",
                            "      <td>2021/08/25 16:52:16</td>\n",
                            "      <td>748187</td>\n",
                            "      <td>Record added August 25 of 2021</td>\n",
                            "      <td>2021/08/25 16:52:16</td>\n",
                            "    </tr>\n",
                            "    <tr>\n",
                            "      <th>11</th>\n",
                            "      <td>2021/08/25 16:52:16</td>\n",
                            "      <td>879078</td>\n",
                            "      <td>Record added August 25 of 2021</td>\n",
                            "      <td>2021/08/25 16:52:16</td>\n",
                            "    </tr>\n",
                            "    <tr>\n",
                            "      <th>12</th>\n",
                            "      <td>2021/08/26 16:52:16</td>\n",
                            "      <td>272686</td>\n",
                            "      <td>Record added August 26 of 2021</td>\n",
                            "      <td>2021/08/26 16:52:16</td>\n",
                            "    </tr>\n",
                            "    <tr>\n",
                            "      <th>13</th>\n",
                            "      <td>2021/08/26 16:52:16</td>\n",
                            "      <td>787605</td>\n",
                            "      <td>Record added August 26 of 2021</td>\n",
                            "      <td>2021/08/26 16:52:16</td>\n",
                            "    </tr>\n",
                            "    <tr>\n",
                            "      <th>14</th>\n",
                            "      <td>2021/08/26 16:52:16</td>\n",
                            "      <td>551367</td>\n",
                            "      <td>Record added August 26 of 2021</td>\n",
                            "      <td>2021/08/26 16:52:16</td>\n",
                            "    </tr>\n",
                            "    <tr>\n",
                            "      <th>15</th>\n",
                            "      <td>2021/08/26 16:52:16</td>\n",
                            "      <td>356276</td>\n",
                            "      <td>Record added August 26 of 2021</td>\n",
                            "      <td>2021/08/26 16:52:16</td>\n",
                            "    </tr>\n",
                            "  </tbody>\n",
                            "</table>\n",
                            "</div>"
                        ]
                    },
                    "metadata": {},
                    "execution_count": 3
                }
            ],
            "metadata": {}
        },
        {
            "cell_type": "markdown",
            "source": [
                "# Format Fields (optional since these are not maintained once written to Excel or CSV)"
            ],
            "metadata": {}
        },
        {
            "cell_type": "code",
            "execution_count": 4,
            "source": [
                "# String to Date/Time\n",
                "df_sampledata['TEST_DATETIME'] = pd.to_datetime(df_sampledata['TEST_DATETIME'])\n",
                "df_sampledata['RECORD_ADDED'] = pd.to_datetime(df_sampledata['RECORD_ADDED'])\n",
                "# String to Int\n",
                "df_sampledata['TEST_NUMBER'] = df_sampledata['TEST_NUMBER'].astype(int)"
            ],
            "outputs": [],
            "metadata": {}
        },
        {
            "cell_type": "markdown",
            "source": [
                "# Sample Data Columns"
            ],
            "metadata": {}
        },
        {
            "cell_type": "code",
            "execution_count": 5,
            "source": [
                "# List DataFrame columns\n",
                "df_sampledata.columns\n",
                "# List field types\n",
                "df_sampledata.convert_dtypes().dtypes"
            ],
            "outputs": [
                {
                    "output_type": "execute_result",
                    "data": {
                        "text/plain": [
                            "TEST_DATETIME    datetime64[ns]\n",
                            "TEST_NUMBER               Int64\n",
                            "TEST_TEXT                string\n",
                            "RECORD_ADDED     datetime64[ns]\n",
                            "dtype: object"
                        ]
                    },
                    "metadata": {},
                    "execution_count": 5
                }
            ],
            "metadata": {}
        },
        {
            "cell_type": "markdown",
            "source": [
                "# Sample Data to Excel"
            ],
            "metadata": {}
        },
        {
            "cell_type": "code",
            "execution_count": 6,
            "source": [
                "# Send DataFrame to Excel file\n",
                "df_sampledata.to_excel('testtable_source.xlsx', index=False)"
            ],
            "outputs": [],
            "metadata": {}
        },
        {
            "cell_type": "markdown",
            "source": [
                "# Sample Data to CSV"
            ],
            "metadata": {}
        },
        {
            "cell_type": "code",
            "execution_count": 7,
            "source": [
                "# Send DataFrame to CSV file\n",
                "df_sampledata.to_csv('testtable_source.csv', index=False)"
            ],
            "outputs": [],
            "metadata": {}
        }
    ],
    "metadata": {
        "orig_nbformat": 4,
        "language_info": {
            "name": "python",
            "version": "3.8.0",
            "mimetype": "text/x-python",
            "codemirror_mode": {
                "name": "ipython",
                "version": 3
            },
            "pygments_lexer": "ipython3",
            "nbconvert_exporter": "python",
            "file_extension": ".py"
        },
        "kernelspec": {
            "name": "python3",
            "display_name": "Python 3.8.0 64-bit"
        },
        "interpreter": {
            "hash": "082e9a3bcad0a290d0001e938aa60b99250c6c2ef33a923c00b70f9826caf4b7"
        }
    },
    "nbformat": 4,
    "nbformat_minor": 2
}