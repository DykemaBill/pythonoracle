{
    "cells": [
        {
            "cell_type": "markdown",
            "metadata": {},
            "source": [
                "# Setup in VS Code\n",
                "- First set your Python interpreter in (Cmd Shift P): \"Python: Select Interpreter\" and select a matching \"python3\" for the next line\n",
                "- Install Jupyter if not already installed: \"pip3 install Jupyter\"\n",
                "- Next start a new Jupyter notebook (Cmd Shift P): \"Jupyter: Create New Blank Notebook\"\n",
                "- Install \"pip3 install pandas\" and to be able to read Excel files \"pip3 install openpyxl\""
            ]
        },
        {
            "cell_type": "code",
            "execution_count": 52,
            "metadata": {},
            "outputs": [],
            "source": [
                "# Pandas for CSV/Excel manipulation\n",
                "import pandas as pd\n",
                "# The following are for FTPing\n",
                "from ftplib import FTP"
            ]
        },
        {
            "cell_type": "markdown",
            "metadata": {},
            "source": [
                "# Read Excel file"
            ]
        },
        {
            "cell_type": "code",
            "execution_count": 54,
            "metadata": {},
            "outputs": [
                {
                    "data": {
                        "text/html": [
                            "<div>\n",
                            "<style scoped>\n",
                            "    .dataframe tbody tr th:only-of-type {\n",
                            "        vertical-align: middle;\n",
                            "    }\n",
                            "\n",
                            "    .dataframe tbody tr th {\n",
                            "        vertical-align: top;\n",
                            "    }\n",
                            "\n",
                            "    .dataframe thead th {\n",
                            "        text-align: right;\n",
                            "    }\n",
                            "</style>\n",
                            "<table border=\"1\" class=\"dataframe\">\n",
                            "  <thead>\n",
                            "    <tr style=\"text-align: right;\">\n",
                            "      <th></th>\n",
                            "      <th>TEST_DATETIME</th>\n",
                            "      <th>TEST_NUMBER</th>\n",
                            "      <th>TEST_TEXT</th>\n",
                            "      <th>RECORD_ADDED</th>\n",
                            "    </tr>\n",
                            "  </thead>\n",
                            "  <tbody>\n",
                            "    <tr>\n",
                            "      <th>0</th>\n",
                            "      <td>2021-08-25 08:42:43</td>\n",
                            "      <td>428514</td>\n",
                            "      <td>Record added to Excel August 25 of 2021</td>\n",
                            "      <td>2021-08-25 08:42:43</td>\n",
                            "    </tr>\n",
                            "    <tr>\n",
                            "      <th>1</th>\n",
                            "      <td>2021-08-25 08:42:43</td>\n",
                            "      <td>904954</td>\n",
                            "      <td>Record added to Excel August 25 of 2021</td>\n",
                            "      <td>2021-08-25 08:42:43</td>\n",
                            "    </tr>\n",
                            "    <tr>\n",
                            "      <th>2</th>\n",
                            "      <td>2021-08-25 08:42:43</td>\n",
                            "      <td>629890</td>\n",
                            "      <td>Record added to Excel August 25 of 2021</td>\n",
                            "      <td>2021-08-25 08:42:43</td>\n",
                            "    </tr>\n",
                            "    <tr>\n",
                            "      <th>3</th>\n",
                            "      <td>2021-08-25 08:42:43</td>\n",
                            "      <td>326473</td>\n",
                            "      <td>Record added to Excel August 25 of 2021</td>\n",
                            "      <td>2021-08-25 08:42:43</td>\n",
                            "    </tr>\n",
                            "    <tr>\n",
                            "      <th>4</th>\n",
                            "      <td>2021-08-26 08:42:43</td>\n",
                            "      <td>815098</td>\n",
                            "      <td>Record added to Excel August 26 of 2021</td>\n",
                            "      <td>2021-08-26 08:42:43</td>\n",
                            "    </tr>\n",
                            "    <tr>\n",
                            "      <th>5</th>\n",
                            "      <td>2021-08-26 08:42:43</td>\n",
                            "      <td>301769</td>\n",
                            "      <td>Record added to Excel August 26 of 2021</td>\n",
                            "      <td>2021-08-26 08:42:43</td>\n",
                            "    </tr>\n",
                            "    <tr>\n",
                            "      <th>6</th>\n",
                            "      <td>2021-08-26 08:42:43</td>\n",
                            "      <td>879650</td>\n",
                            "      <td>Record added to Excel August 26 of 2021</td>\n",
                            "      <td>2021-08-26 08:42:43</td>\n",
                            "    </tr>\n",
                            "    <tr>\n",
                            "      <th>7</th>\n",
                            "      <td>2021-08-26 08:42:43</td>\n",
                            "      <td>737747</td>\n",
                            "      <td>Record added to Excel August 26 of 2021</td>\n",
                            "      <td>2021-08-26 08:42:43</td>\n",
                            "    </tr>\n",
                            "    <tr>\n",
                            "      <th>8</th>\n",
                            "      <td>2021-08-27 08:42:43</td>\n",
                            "      <td>140170</td>\n",
                            "      <td>Record added to Excel August 27 of 2021</td>\n",
                            "      <td>2021-08-27 08:42:43</td>\n",
                            "    </tr>\n",
                            "    <tr>\n",
                            "      <th>9</th>\n",
                            "      <td>2021-08-27 08:42:43</td>\n",
                            "      <td>246890</td>\n",
                            "      <td>Record added to Excel August 27 of 2021</td>\n",
                            "      <td>2021-08-27 08:42:43</td>\n",
                            "    </tr>\n",
                            "    <tr>\n",
                            "      <th>10</th>\n",
                            "      <td>2021-08-27 08:42:43</td>\n",
                            "      <td>848615</td>\n",
                            "      <td>Record added to Excel August 27 of 2021</td>\n",
                            "      <td>2021-08-27 08:42:43</td>\n",
                            "    </tr>\n",
                            "    <tr>\n",
                            "      <th>11</th>\n",
                            "      <td>2021-08-27 08:42:43</td>\n",
                            "      <td>813903</td>\n",
                            "      <td>Record added to Excel August 27 of 2021</td>\n",
                            "      <td>2021-08-27 08:42:43</td>\n",
                            "    </tr>\n",
                            "  </tbody>\n",
                            "</table>\n",
                            "</div>"
                        ],
                        "text/plain": [
                            "          TEST_DATETIME  TEST_NUMBER                                TEST_TEXT  \\\n",
                            "0   2021-08-25 08:42:43       428514  Record added to Excel August 25 of 2021   \n",
                            "1   2021-08-25 08:42:43       904954  Record added to Excel August 25 of 2021   \n",
                            "2   2021-08-25 08:42:43       629890  Record added to Excel August 25 of 2021   \n",
                            "3   2021-08-25 08:42:43       326473  Record added to Excel August 25 of 2021   \n",
                            "4   2021-08-26 08:42:43       815098  Record added to Excel August 26 of 2021   \n",
                            "5   2021-08-26 08:42:43       301769  Record added to Excel August 26 of 2021   \n",
                            "6   2021-08-26 08:42:43       879650  Record added to Excel August 26 of 2021   \n",
                            "7   2021-08-26 08:42:43       737747  Record added to Excel August 26 of 2021   \n",
                            "8   2021-08-27 08:42:43       140170  Record added to Excel August 27 of 2021   \n",
                            "9   2021-08-27 08:42:43       246890  Record added to Excel August 27 of 2021   \n",
                            "10  2021-08-27 08:42:43       848615  Record added to Excel August 27 of 2021   \n",
                            "11  2021-08-27 08:42:43       813903  Record added to Excel August 27 of 2021   \n",
                            "\n",
                            "          RECORD_ADDED  \n",
                            "0  2021-08-25 08:42:43  \n",
                            "1  2021-08-25 08:42:43  \n",
                            "2  2021-08-25 08:42:43  \n",
                            "3  2021-08-25 08:42:43  \n",
                            "4  2021-08-26 08:42:43  \n",
                            "5  2021-08-26 08:42:43  \n",
                            "6  2021-08-26 08:42:43  \n",
                            "7  2021-08-26 08:42:43  \n",
                            "8  2021-08-27 08:42:43  \n",
                            "9  2021-08-27 08:42:43  \n",
                            "10 2021-08-27 08:42:43  \n",
                            "11 2021-08-27 08:42:43  "
                        ]
                    },
                    "execution_count": 54,
                    "metadata": {},
                    "output_type": "execute_result"
                }
            ],
            "source": [
                "# Excel file name\n",
                "excel_filename_source = \"testtable_source.xlsx\"\n",
                "# Create DataFrame from Excel\n",
                "df_excel = pd.read_excel(excel_filename_source, converters={'TEST_DATETIME':str, 'TEST_NUMBER':int, 'TEST_TEXT':str})\n",
                "# View your new DataFrame\n",
                "df_excel"
            ]
        },
        {
            "cell_type": "markdown",
            "metadata": {},
            "source": [
                "# FTP Setup"
            ]
        },
        {
            "cell_type": "code",
            "execution_count": null,
            "metadata": {},
            "outputs": [],
            "source": [
                "# FTP site details\n",
                "ftp_server = \"ftp.servername.com\"\n",
                "ftp_user = \"username\"\n",
                "ftp_pass = \"password\"\n",
                "ftp_path = \"~\"\n",
                "# FTP start session\n",
                "ftp_connection = FTP(ftp_server)\n",
                "# FTP login\n",
                "ftp_connection.login(ftp_user, ftp_pass)\n",
                "# FTP set remote directory\n",
                "ftp_connection.cwd(ftp_path)"
            ]
        },
        {
            "cell_type": "markdown",
            "metadata": {},
            "source": [
                "# FTP Upload Excel File"
            ]
        },
        {
            "cell_type": "code",
            "execution_count": null,
            "metadata": {},
            "outputs": [],
            "source": [
                "# FTP send file\n",
                "ftp_store_command = \"STOR \" + excel_filename_source\n",
                "try:\n",
                "    with open(excel_filename_source, \"rb\") as ftp_file:\n",
                "        ftp_connection.storbinary(ftp_store_command, ftp_file)\n",
                "except Exception as ftp_error:\n",
                "      print(\"FTP upload file error: \" + str(ftp_error))"
            ]
        },
        {
            "cell_type": "markdown",
            "metadata": {},
            "source": [
                "# FTP Download Excel File"
            ]
        },
        {
            "cell_type": "code",
            "execution_count": null,
            "metadata": {},
            "outputs": [],
            "source": [
                "# Excel new file name\n",
                "excel_filename_new = \"testtable_source_copy.xlsx\"\n",
                "# FTP download file\n",
                "ftp_retrieve_command = \"RETR \" + excel_filename_source\n",
                "try:\n",
                "    with open(excel_filename_new, \"wb\") as ftp_file:\n",
                "        ftp_connection.retrbinary(ftp_retrieve_command, ftp_file.write)\n",
                "except Exception as ftp_error:\n",
                "      print(\"FTP download file error: \" + str(ftp_error))"
            ]
        },
        {
            "cell_type": "markdown",
            "metadata": {},
            "source": [
                "# FTP Close Connection"
            ]
        },
        {
            "cell_type": "code",
            "execution_count": null,
            "metadata": {},
            "outputs": [],
            "source": [
                "# FTP close\n",
                "ftp_connection.quit()"
            ]
        }
    ],
    "metadata": {
        "interpreter": {
            "hash": "082e9a3bcad0a290d0001e938aa60b99250c6c2ef33a923c00b70f9826caf4b7"
        },
        "kernelspec": {
            "display_name": "Python 3.8.0 64-bit",
            "name": "python3"
        },
        "language_info": {
            "codemirror_mode": {
                "name": "ipython",
                "version": 3
            },
            "file_extension": ".py",
            "mimetype": "text/x-python",
            "name": "python",
            "nbconvert_exporter": "python",
            "pygments_lexer": "ipython3",
            "version": "3.8.0"
        },
        "orig_nbformat": 4
    },
    "nbformat": 4,
    "nbformat_minor": 2
}
