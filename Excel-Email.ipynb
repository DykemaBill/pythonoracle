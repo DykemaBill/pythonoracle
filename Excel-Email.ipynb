{
    "cells": [
        {
            "cell_type": "markdown",
            "metadata": {},
            "source": [
                "# Setup in VS Code\n",
                "- First set your Python interpreter in (Cmd Shift P): \"Python: Select Interpreter\" and select a matching \"python3\" for the next line\n",
                "- Install Jupyter if not already installed: \"pip3 install Jupyter\"\n",
                "- Next start a new Jupyter notebook (Cmd Shift P): \"Jupyter: Create New Blank Notebook\"\n",
                "- For local email testing, you can use the following relay server: \"python3 -m smtpd -c DebuggingServer -n localhost:25\""
            ]
        },
        {
            "cell_type": "code",
            "execution_count": 52,
            "metadata": {},
            "outputs": [],
            "source": [
                "# The following are for Email\n",
                "import smtplib\n",
                "from email.mime.text import MIMEText\n",
                "from email.mime.multipart import MIMEMultipart\n",
                "from email.mime.application import MIMEApplication\n",
                "import email.utils"
            ]
        },
        {
            "cell_type": "markdown",
            "metadata": {},
            "source": [
                "# Email Function define"
            ]
        },
        {
            "cell_type": "code",
            "execution_count": null,
            "metadata": {},
            "outputs": [],
            "source": [
                "# Send email message\n",
                "def send_email(email_smtp, email_sender, email_receiver, email_subject, email_message, email_attachment):\n",
                "    email_content = MIMEMultipart('mixed')\n",
                "    #email_content = MIMEMultipart(email_message, _charset='UTF-8')\n",
                "    email_content['Subject'] = email_subject\n",
                "    email_content['Message-ID'] = email.utils.make_msgid()\n",
                "    email_content['Date'] = email.utils.formatdate(localtime=1)\n",
                "    email_content['From'] = email_sender\n",
                "    email_content['To'] = email_receiver\n",
                "    email_body = MIMEText(email_message, _charset='UTF-8')\n",
                "    email_content.attach(email_body)\n",
                "    # https://www.codeforests.com/2020/06/22/how-to-send-email-via-python\n",
                "    try:\n",
                "      with open(email_attachment, \"rb\") as attachment:\n",
                "        email_assemble = MIMEApplication(attachment.read())\t\n",
                "        email_assemble.add_header('Content-Disposition', \"attachment; filename= %s\" % email_attachment.split(\"//\")[-1]) # Change slashes for Windows\n",
                "        email_content.attach(email_assemble)\n",
                "    except Exception as attachment_error:\n",
                "      print(\"Email attachment error: \" + str(attachment_error))\n",
                "    try:\n",
                "        smtpObj = smtplib.SMTP(email_smtp, port=25, local_hostname=None, timeout=5)\n",
                "        smtpObj.sendmail(email_sender, email_receiver, email_content.as_string())         \n",
                "        smtpObj.quit()\n",
                "        return True\n",
                "    except Exception as email_error:\n",
                "        print(\"Email error:\" + str(email_error))\n",
                "        return False"
            ]
        },
        {
            "cell_type": "markdown",
            "metadata": {},
            "source": [
                "# Email send"
            ]
        },
        {
            "cell_type": "code",
            "execution_count": null,
            "metadata": {},
            "outputs": [],
            "source": [
                "# Setup email\n",
                "email_smtp = \"[SMTP Server Name Here]\"\n",
                "email_sender = \"[from@somewhere.com]\"\n",
                "email_receiver = \"[to@somewhere.com]\"\n",
                "email_subject = \"[Email subject here]\"\n",
                "email_message = \"[This is where email message text goes!]\"\n",
                "# Attachment file path and file name here with double slashes\n",
                "email_attachment = \"path//filename.extension]\" # Change slashes for Windows\n",
                "# Use function to send email\n",
                "email_delivered = send_email(email_smtp, email_sender, email_receiver, email_subject, email_message, email_attachment)\n",
                "# Check to see if email got delivered\n",
                "if (email_delivered):\n",
                "    print (\"Email message was delivered!\")\n",
                "else:\n",
                "    print (\"Email message delivery failed!\")"
            ]
        }
    ],
    "metadata": {
        "interpreter": {
            "hash": "082e9a3bcad0a290d0001e938aa60b99250c6c2ef33a923c00b70f9826caf4b7"
        },
        "kernelspec": {
            "display_name": "Python 3.8.0 64-bit",
            "name": "python3"
        },
        "language_info": {
            "codemirror_mode": {
                "name": "ipython",
                "version": 3
            },
            "file_extension": ".py",
            "mimetype": "text/x-python",
            "name": "python",
            "nbconvert_exporter": "python",
            "pygments_lexer": "ipython3",
            "version": "3.8.0"
        },
        "orig_nbformat": 4
    },
    "nbformat": 4,
    "nbformat_minor": 2
}
