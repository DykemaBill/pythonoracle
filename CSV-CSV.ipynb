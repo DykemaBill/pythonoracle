{
    "cells": [
        {
            "cell_type": "code",
            "execution_count": 2,
            "source": [
                "# Setup\n",
                "### First set your Python interpreter in VS Code (Cmd Shift P): \"Python: Select Interpreter\" and select a matching \"python3\" for the next line\n",
                "### Install Jupyter if not already installed: \"pip3 install Jupyter\"\n",
                "### Next start a new Jupyter notebook (Cmd Shift P): \"Jupyter: Create New Blank Notebook\""
            ],
            "outputs": [],
            "metadata": {}
        },
        {
            "cell_type": "markdown",
            "source": [],
            "metadata": {}
        },
        {
            "cell_type": "markdown",
            "source": [],
            "metadata": {}
        }
    ],
    "metadata": {
        "orig_nbformat": 4,
        "language_info": {
            "name": "python",
            "version": "3.8.0",
            "mimetype": "text/x-python",
            "codemirror_mode": {
                "name": "ipython",
                "version": 3
            },
            "pygments_lexer": "ipython3",
            "nbconvert_exporter": "python",
            "file_extension": ".py"
        },
        "kernelspec": {
            "name": "python3",
            "display_name": "Python 3.8.0 64-bit"
        },
        "interpreter": {
            "hash": "082e9a3bcad0a290d0001e938aa60b99250c6c2ef33a923c00b70f9826caf4b7"
        }
    },
    "nbformat": 4,
    "nbformat_minor": 2
}