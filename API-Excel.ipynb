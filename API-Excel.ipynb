{
    "cells": [
        {
            "cell_type": "markdown",
            "source": [
                "# Setup in VS Code\n",
                "- First set your Python interpreter in (Cmd Shift P): \"Python: Select Interpreter\" and select a matching \"python3\" for the next line\n",
                "- Install Jupyter if not already installed: \"pip3 install Jupyter\"\n",
                "- Next start a new Jupyter notebook (Cmd Shift P): \"Jupyter: Create New Blank Notebook\"\n",
                "- Install \"pip3 install pandas\" and to be able to read Excel files \"pip3 install openpyxl\""
            ],
            "metadata": {}
        },
        {
            "cell_type": "code",
            "execution_count": null,
            "source": [
                "# Requests for pulling from API\n",
                "import requests\n",
                "from requests.structures import CaseInsensitiveDict\n",
                "# Pandas for CSV/Excel manipulation\n",
                "import pandas as pd"
            ],
            "outputs": [],
            "metadata": {}
        },
        {
            "cell_type": "markdown",
            "source": [
                "# API Connect and Pull Data"
            ],
            "metadata": {}
        },
        {
            "cell_type": "code",
            "execution_count": null,
            "source": [
                "# API URL build\n",
                "drought_area = \"USStatistics\"\n",
                "drought_type = \"GetDroughtSeverityStatisticsByArea\"\n",
                "drought_aoi = \"us\"\n",
                "drought_start = \"8/10/2021\"\n",
                "drought_end = \"8/20/2021\"\n",
                "drought_stat = \"1\"\n",
                "drought_url = \"https://usdmdataservices.unl.edu/api/%s/%s?aoi=%s&startdate=%s&enddate=%s&statisticsType=%s\" % (str(drought_area), str(drought_type), str(drought_aoi), str(drought_start), str(drought_end), str(drought_stat))\n",
                "# Set timeout\n",
                "timeout_url = 5\n",
                "# Specify that we want data in JSON format\n",
                "drought_header = CaseInsensitiveDict()\n",
                "drought_header[\"Accept\"] = \"application/json\"\n",
                "# Send API request\n",
                "drought_data = requests.get(drought_url, headers=drought_header, timeout=timeout_url)\n",
                "# Check URL status (200 is good)\n",
                "drought_data.status_code\n",
                "# Convert to JSON format\n",
                "drought_data_json = drought_data.json()\n",
                "# Convert to DataFrame\n",
                "df_drought = pd.DataFrame(drought_data_json)\n",
                "# View new DataFrame\n",
                "df_drought"
            ],
            "outputs": [],
            "metadata": {}
        },
        {
            "cell_type": "markdown",
            "source": [
                "# API Columns"
            ],
            "metadata": {}
        },
        {
            "cell_type": "code",
            "execution_count": null,
            "source": [
                "# List DataFrame columns\n",
                "df_drought.columns\n",
                "# List field types\n",
                "df_drought.convert_dtypes().dtypes"
            ],
            "outputs": [],
            "metadata": {}
        },
        {
            "cell_type": "markdown",
            "source": [
                "# Format Fields"
            ],
            "metadata": {}
        },
        {
            "cell_type": "code",
            "execution_count": null,
            "source": [
                "# String to Date/Time\n",
                "df_drought['MapDate'] = pd.to_datetime(df_drought['MapDate'])\n",
                "df_drought['ValidStart'] = pd.to_datetime(df_drought['ValidStart'])\n",
                "df_drought['ValidEnd'] = pd.to_datetime(df_drought['ValidEnd'])\n",
                "# Remove all commas in field values\n",
                "df_drought = df_drought.replace(',',\"\", regex=True)\n",
                "# String to Float\n",
                "df_drought['None'] = df_drought['None'].astype(float)\n",
                "df_drought['D0'] = df_drought['D0'].astype(float)\n",
                "df_drought['D1'] = df_drought['D1'].astype(float)\n",
                "df_drought['D2'] = df_drought['D2'].astype(float)\n",
                "df_drought['D3'] = df_drought['D3'].astype(float)\n",
                "df_drought['D4'] = df_drought['D4'].astype(float)"
            ],
            "outputs": [],
            "metadata": {}
        },
        {
            "cell_type": "markdown",
            "source": [
                "# Write API to Excel"
            ],
            "metadata": {}
        },
        {
            "cell_type": "code",
            "execution_count": 6,
            "source": [
                "# Send API DataFrame to Excel file\n",
                "df_drought.to_excel('api_export.xlsx', index=False)"
            ],
            "outputs": [],
            "metadata": {}
        },
        {
            "cell_type": "markdown",
            "source": [
                "# Write API to CSV"
            ],
            "metadata": {}
        },
        {
            "cell_type": "code",
            "execution_count": 7,
            "source": [
                "# Send API DataFrame to CSV file\n",
                "df_drought.to_csv('api_export.csv', index=False)"
            ],
            "outputs": [],
            "metadata": {}
        }
    ],
    "metadata": {
        "orig_nbformat": 4,
        "language_info": {
            "name": "python",
            "version": "3.8.2",
            "mimetype": "text/x-python",
            "codemirror_mode": {
                "name": "ipython",
                "version": 3
            },
            "pygments_lexer": "ipython3",
            "nbconvert_exporter": "python",
            "file_extension": ".py"
        },
        "kernelspec": {
            "name": "python3",
            "display_name": "Python 3.8.2 64-bit"
        },
        "interpreter": {
            "hash": "31f2aee4e71d21fbe5cf8b01ff0e069b9275f58929596ceb00d14d90e3e16cd6"
        }
    },
    "nbformat": 4,
    "nbformat_minor": 2
}