{
    "cells": [
        {
            "cell_type": "markdown",
            "metadata": {},
            "source": [
                "# Setup in VS Code\n",
                "- First set your Python interpreter (Cmd/Ctl Shift P): \"Python: Select Interpreter\" and select a matching \"python3\" for the next \"pip3\" line\n",
                "- Install Jupyter if not already installed: \"pip3 install Jupyter\"\n",
                "- Next start a new Jupyter notebook (Cmd/Ctl Shift P): \"Jupyter: Create New Blank Notebook\"\n",
                "- Install \"pip3 install pandas\"\n",
                "- Install \"pip3 install SQLAlchemy\" and \"pip3 install cx_Oracle\" for Oracle connectivity\n",
                "- Review Oracle ODBC setup in pythonoracle_odbc.py (this example uses ODBC)"
            ]
        },
        {
            "cell_type": "code",
            "execution_count": 18,
            "metadata": {},
            "outputs": [],
            "source": [
                "# System for path append\n",
                "import sys\n",
                "# Pandas for data manipulation\n",
                "import pandas as pd\n",
                "# Used to get the current date/time\n",
                "from datetime import datetime\n",
                "# Library to talk with Oracle, requires Python cx_Oracle module and the Oracle Instant Client to be installed on host\n",
                "from sqlalchemy import create_engine\n",
                "# Append path where odbc_set it located\n",
                "sys.path.append('/[yourlibrarylocation]')\n",
                "# Script to setup Oracle connection\n",
                "from odbc_set import odbc_setup"
            ]
        },
        {
            "cell_type": "markdown",
            "metadata": {},
            "source": [
                "# Oracle Setup"
            ]
        },
        {
            "cell_type": "code",
            "execution_count": 20,
            "metadata": {},
            "outputs": [],
            "source": [
                "# Oracle connection cursor using external script\n",
                "# replace the [area] with your area\n",
                "db_inst = odbc_setup(\"[area]\")"
            ]
        },
        {
            "cell_type": "markdown",
            "metadata": {},
            "source": [
                "# Read Oracle Table"
            ]
        },
        {
            "cell_type": "code",
            "execution_count": null,
            "metadata": {},
            "outputs": [],
            "source": [
                "# Read existing Oracle table\n",
                "oracle_table = \"testtable\"\n",
                "# Build query\n",
                "oracle_query = \"SELECT * FROM %s\" % (str(oracle_table))\n",
                "# Run query\n",
                "df_oracle = pd.read_sql_query(oracle_query, con=db_inst)\n",
                "# View your new DataFrame\n",
                "df_oracle"
            ]
        },
        {
            "cell_type": "markdown",
            "metadata": {},
            "source": [
                "# Close Connection"
            ]
        },
        {
            "cell_type": "code",
            "execution_count": null,
            "metadata": {},
            "outputs": [],
            "source": [
                "# Disconnect from Oracle cursor\n"
            ]
        }
    ],
    "metadata": {
        "interpreter": {
            "hash": "31f2aee4e71d21fbe5cf8b01ff0e069b9275f58929596ceb00d14d90e3e16cd6"
        },
        "kernelspec": {
            "display_name": "Python 3.9.5",
            "language": "python",
            "name": "py3.9.5"
        },
        "language_info": {
            "codemirror_mode": {
                "name": "ipython",
                "version": 3
            },
            "file_extension": ".py",
            "mimetype": "text/x-python",
            "name": "python",
            "nbconvert_exporter": "python",
            "pygments_lexer": "ipython3",
            "version": "3.9.5"
        },
        "orig_nbformat": 4
    },
    "nbformat": 4,
    "nbformat_minor": 2
}
